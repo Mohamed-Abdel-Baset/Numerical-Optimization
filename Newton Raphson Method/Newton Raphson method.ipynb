{
 "cells": [
  {
   "cell_type": "markdown",
   "metadata": {},
   "source": [
    "# Newton's Raphson Method:\n",
    "The Newton-Raphson method (also known as Newton's method) is a way to quickly find a good approximation for the root of a real-valued function f(x) = 0f(x)=0. It uses the idea that a continuous and differentiable function can be approximated by a straight line tangent to it.\n",
    "\n",
    "#### How it Works:\n",
    "Suppose you need to find the root of a continuous, differentiable function f(x), and you know the root you are looking for is near the point x = x0 Then Newton's method tells us that a better approximation for the root is:\n",
    "- x1 = x0 - (f(x0) / f'(x0))\n",
    "\n",
    "This process may be repeated as many times as necessary to get the desired accuracy. In general, for any x-value xn the next value is given by:\n",
    "- x(n+1) = xn - (f(xn) / f'(xn))\n",
    "\n"
   ]
  },
  {
   "cell_type": "code",
   "execution_count": 1,
   "metadata": {},
   "outputs": [],
   "source": [
    "import numpy as np\n",
    "import pandas as pd\n",
    "\n",
    "def fx(x):\n",
    "    return (x**3 - 7*x**2 + 8*x - 3)\n",
    "\n",
    "def df(x):\n",
    "    return(3*x**2 - 14*x + 8)\n",
    "\n",
    "def NewtonRaphson(func, dfunc, x0, tolerance):\n",
    "    \"\"\"Return Approximate function's root around some initial point using Netwon-Raphson Numerical Method\n",
    "    \n",
    "    Args:\n",
    "        func (Function): The function for which root is calculated.\n",
    "        dfunc (Function): The first derivative of the function.\n",
    "        x0 (float): the initial guess\n",
    "        tolerance (float): the dessired tolerance at which function stops iterating\n",
    "\n",
    "    Returns:\n",
    "        Dictionary : the results of each iteration\n",
    "    \"\"\"\n",
    "    results = {}\n",
    "    \n",
    "    x = x0 - (func(x0)/dfunc(x0))\n",
    "    results['x'] = [x0]\n",
    "    results['F(x)'] = [func(x0)]\n",
    "    results['dF(x)'] = [dfunc(x0)]\n",
    "    \n",
    "    while(abs(x0 - x) > tolerance):\n",
    "        results['x'].append(x)\n",
    "        results['F(x)'].append(func(x))\n",
    "        results['dF(x)'].append(dfunc(x))\n",
    "        \n",
    "        x0 = x\n",
    "        x = x0 - (func(x0)/dfunc(x0))\n",
    "    return results\n"
   ]
  },
  {
   "cell_type": "markdown",
   "metadata": {},
   "source": [
    "## Test:"
   ]
  },
  {
   "cell_type": "code",
   "execution_count": 2,
   "metadata": {},
   "outputs": [
    {
     "name": "stdout",
     "output_type": "stream",
     "text": [
      "          x       F(x)      dF(x)\n",
      "0  5.000000 -13.000000  13.000000\n",
      "1  6.000000   9.000000  32.000000\n",
      "2  5.718750   0.847870  26.049805\n",
      "3  5.686202   0.010725  25.391851\n",
      "4  5.685780   0.000002  25.383355\n",
      "\n",
      "The approximate root = 5.685779596779872\n",
      "The iterations stopped after 5 iterations.\n"
     ]
    }
   ],
   "source": [
    "results = NewtonRaphson(fx, df, x0=5, tolerance=0.00001)\n",
    "table = pd.DataFrame(results)\n",
    "print(table)\n",
    "\n",
    "print(\"\\nThe approximate root =\", results['x'][-1])\n",
    "print(\"The iterations stopped after\",table.shape[0], \"iterations.\")"
   ]
  }
 ],
 "metadata": {
  "kernelspec": {
   "display_name": "Python 3",
   "language": "python",
   "name": "python3"
  },
  "language_info": {
   "codemirror_mode": {
    "name": "ipython",
    "version": 3
   },
   "file_extension": ".py",
   "mimetype": "text/x-python",
   "name": "python",
   "nbconvert_exporter": "python",
   "pygments_lexer": "ipython3",
   "version": "3.8.5"
  }
 },
 "nbformat": 4,
 "nbformat_minor": 4
}
